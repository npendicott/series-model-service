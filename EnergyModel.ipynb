{
 "cells": [
  {
   "cell_type": "code",
   "execution_count": 1,
   "metadata": {},
   "outputs": [],
   "source": [
    "from data.energy_service import EnergyService\n",
    "\n",
    "from pandas import DataFrame\n",
    "from model.series_sample import TimeSeriesSampleAccessor\n",
    "# Accessor does not work unless working with a specific kernal? TODO: Managing kernals\n",
    "# https://medium.com/@eleroy/jupyter-notebook-in-a-virtual-environment-virtualenv-8f3c3448247\n",
    "from data.schemas.influx_schema import DailyReadingSchema, HHourlyReadingSchema, SolarControlSchema, SolarPandOSchema\n",
    "\n",
    "import json\n",
    "import os"
   ]
  },
  {
   "cell_type": "code",
   "execution_count": null,
   "metadata": {},
   "outputs": [],
   "source": []
  },
  {
   "cell_type": "code",
   "execution_count": 2,
   "metadata": {},
   "outputs": [],
   "source": [
    "INFLUX_TS_FMT = \"%Y-%m-%dT%H:%M:%SZ\""
   ]
  },
  {
   "cell_type": "code",
   "execution_count": 3,
   "metadata": {
    "scrolled": false
   },
   "outputs": [],
   "source": [
    "service = EnergyService()\n",
    "res = service.get_readings(\"daily\", \"MAC000246\", \"2011-04-12 10:30:00.0000000\", \"2012-04-12 10:30:00.0000000\")"
   ]
  },
  {
   "cell_type": "code",
   "execution_count": 4,
   "metadata": {},
   "outputs": [],
   "source": [
    "table, timestamps, lables, data = \\\n",
    "    service.parse_response(res, DailyReadingSchema())"
   ]
  },
  {
   "cell_type": "code",
   "execution_count": 5,
   "metadata": {},
   "outputs": [],
   "source": [
    "sample = DataFrame(data=data, columns=lables)\n",
    "sample['timestamp'] = timestamps\n",
    "\n",
    "sample.tss.format_index(timestamps, INFLUX_TS_FMT)"
   ]
  },
  {
   "cell_type": "code",
   "execution_count": 6,
   "metadata": {},
   "outputs": [
    {
     "data": {
      "text/html": [
       "<div>\n",
       "<style scoped>\n",
       "    .dataframe tbody tr th:only-of-type {\n",
       "        vertical-align: middle;\n",
       "    }\n",
       "\n",
       "    .dataframe tbody tr th {\n",
       "        vertical-align: top;\n",
       "    }\n",
       "\n",
       "    .dataframe thead th {\n",
       "        text-align: right;\n",
       "    }\n",
       "</style>\n",
       "<table border=\"1\" class=\"dataframe\">\n",
       "  <thead>\n",
       "    <tr style=\"text-align: right;\">\n",
       "      <th></th>\n",
       "      <th>energy_count</th>\n",
       "      <th>energy_max</th>\n",
       "      <th>energy_mean</th>\n",
       "      <th>energy_median</th>\n",
       "      <th>energy_min</th>\n",
       "      <th>energy_std</th>\n",
       "      <th>energy_sum</th>\n",
       "    </tr>\n",
       "  </thead>\n",
       "  <tbody>\n",
       "    <tr>\n",
       "      <th>count</th>\n",
       "      <td>132.000000</td>\n",
       "      <td>132.000000</td>\n",
       "      <td>132.000000</td>\n",
       "      <td>132.000000</td>\n",
       "      <td>132.000000</td>\n",
       "      <td>132.000000</td>\n",
       "      <td>132.000000</td>\n",
       "    </tr>\n",
       "    <tr>\n",
       "      <th>mean</th>\n",
       "      <td>47.863636</td>\n",
       "      <td>1.209492</td>\n",
       "      <td>0.247898</td>\n",
       "      <td>0.111034</td>\n",
       "      <td>0.038318</td>\n",
       "      <td>0.293718</td>\n",
       "      <td>11.858182</td>\n",
       "    </tr>\n",
       "    <tr>\n",
       "      <th>std</th>\n",
       "      <td>1.566699</td>\n",
       "      <td>0.277129</td>\n",
       "      <td>0.092312</td>\n",
       "      <td>0.064607</td>\n",
       "      <td>0.012987</td>\n",
       "      <td>0.083685</td>\n",
       "      <td>4.432556</td>\n",
       "    </tr>\n",
       "    <tr>\n",
       "      <th>min</th>\n",
       "      <td>30.000000</td>\n",
       "      <td>0.218000</td>\n",
       "      <td>0.082042</td>\n",
       "      <td>0.063500</td>\n",
       "      <td>0.017000</td>\n",
       "      <td>0.026271</td>\n",
       "      <td>3.938000</td>\n",
       "    </tr>\n",
       "    <tr>\n",
       "      <th>25%</th>\n",
       "      <td>48.000000</td>\n",
       "      <td>1.056750</td>\n",
       "      <td>0.186927</td>\n",
       "      <td>0.078375</td>\n",
       "      <td>0.028000</td>\n",
       "      <td>0.251286</td>\n",
       "      <td>8.972500</td>\n",
       "    </tr>\n",
       "    <tr>\n",
       "      <th>50%</th>\n",
       "      <td>48.000000</td>\n",
       "      <td>1.194500</td>\n",
       "      <td>0.222875</td>\n",
       "      <td>0.094250</td>\n",
       "      <td>0.036000</td>\n",
       "      <td>0.286858</td>\n",
       "      <td>10.588000</td>\n",
       "    </tr>\n",
       "    <tr>\n",
       "      <th>75%</th>\n",
       "      <td>48.000000</td>\n",
       "      <td>1.339500</td>\n",
       "      <td>0.300633</td>\n",
       "      <td>0.114250</td>\n",
       "      <td>0.044250</td>\n",
       "      <td>0.342004</td>\n",
       "      <td>14.398750</td>\n",
       "    </tr>\n",
       "    <tr>\n",
       "      <th>max</th>\n",
       "      <td>48.000000</td>\n",
       "      <td>1.981000</td>\n",
       "      <td>0.609187</td>\n",
       "      <td>0.572500</td>\n",
       "      <td>0.074000</td>\n",
       "      <td>0.484152</td>\n",
       "      <td>29.241000</td>\n",
       "    </tr>\n",
       "  </tbody>\n",
       "</table>\n",
       "</div>"
      ],
      "text/plain": [
       "       energy_count  energy_max  energy_mean  energy_median  energy_min  \\\n",
       "count    132.000000  132.000000   132.000000     132.000000  132.000000   \n",
       "mean      47.863636    1.209492     0.247898       0.111034    0.038318   \n",
       "std        1.566699    0.277129     0.092312       0.064607    0.012987   \n",
       "min       30.000000    0.218000     0.082042       0.063500    0.017000   \n",
       "25%       48.000000    1.056750     0.186927       0.078375    0.028000   \n",
       "50%       48.000000    1.194500     0.222875       0.094250    0.036000   \n",
       "75%       48.000000    1.339500     0.300633       0.114250    0.044250   \n",
       "max       48.000000    1.981000     0.609187       0.572500    0.074000   \n",
       "\n",
       "       energy_std  energy_sum  \n",
       "count  132.000000  132.000000  \n",
       "mean     0.293718   11.858182  \n",
       "std      0.083685    4.432556  \n",
       "min      0.026271    3.938000  \n",
       "25%      0.251286    8.972500  \n",
       "50%      0.286858   10.588000  \n",
       "75%      0.342004   14.398750  \n",
       "max      0.484152   29.241000  "
      ]
     },
     "execution_count": 6,
     "metadata": {},
     "output_type": "execute_result"
    }
   ],
   "source": [
    "sample.describe()"
   ]
  },
  {
   "cell_type": "code",
   "execution_count": 7,
   "metadata": {},
   "outputs": [
    {
     "data": {
      "text/html": [
       "<div>\n",
       "<style scoped>\n",
       "    .dataframe tbody tr th:only-of-type {\n",
       "        vertical-align: middle;\n",
       "    }\n",
       "\n",
       "    .dataframe tbody tr th {\n",
       "        vertical-align: top;\n",
       "    }\n",
       "\n",
       "    .dataframe thead th {\n",
       "        text-align: right;\n",
       "    }\n",
       "</style>\n",
       "<table border=\"1\" class=\"dataframe\">\n",
       "  <thead>\n",
       "    <tr style=\"text-align: right;\">\n",
       "      <th></th>\n",
       "      <th>energy_count</th>\n",
       "      <th>energy_max</th>\n",
       "      <th>energy_mean</th>\n",
       "      <th>energy_median</th>\n",
       "      <th>energy_min</th>\n",
       "      <th>energy_std</th>\n",
       "      <th>energy_sum</th>\n",
       "      <th>mac_id</th>\n",
       "      <th>timestamp</th>\n",
       "    </tr>\n",
       "  </thead>\n",
       "  <tbody>\n",
       "    <tr>\n",
       "      <th>2011-12-03</th>\n",
       "      <td>30</td>\n",
       "      <td>1.179</td>\n",
       "      <td>0.300233</td>\n",
       "      <td>0.1150</td>\n",
       "      <td>0.047</td>\n",
       "      <td>0.361231</td>\n",
       "      <td>9.007</td>\n",
       "      <td>MAC000246</td>\n",
       "      <td>2011-12-03T00:00:00Z</td>\n",
       "    </tr>\n",
       "    <tr>\n",
       "      <th>2011-12-04</th>\n",
       "      <td>48</td>\n",
       "      <td>1.914</td>\n",
       "      <td>0.432563</td>\n",
       "      <td>0.1750</td>\n",
       "      <td>0.026</td>\n",
       "      <td>0.484152</td>\n",
       "      <td>20.763</td>\n",
       "      <td>MAC000246</td>\n",
       "      <td>2011-12-04T00:00:00Z</td>\n",
       "    </tr>\n",
       "    <tr>\n",
       "      <th>2011-12-05</th>\n",
       "      <td>48</td>\n",
       "      <td>0.934</td>\n",
       "      <td>0.125417</td>\n",
       "      <td>0.0780</td>\n",
       "      <td>0.025</td>\n",
       "      <td>0.153327</td>\n",
       "      <td>6.020</td>\n",
       "      <td>MAC000246</td>\n",
       "      <td>2011-12-05T00:00:00Z</td>\n",
       "    </tr>\n",
       "    <tr>\n",
       "      <th>2011-12-06</th>\n",
       "      <td>48</td>\n",
       "      <td>1.216</td>\n",
       "      <td>0.277542</td>\n",
       "      <td>0.1140</td>\n",
       "      <td>0.027</td>\n",
       "      <td>0.313399</td>\n",
       "      <td>13.322</td>\n",
       "      <td>MAC000246</td>\n",
       "      <td>2011-12-06T00:00:00Z</td>\n",
       "    </tr>\n",
       "    <tr>\n",
       "      <th>2011-12-07</th>\n",
       "      <td>48</td>\n",
       "      <td>0.873</td>\n",
       "      <td>0.188792</td>\n",
       "      <td>0.1035</td>\n",
       "      <td>0.026</td>\n",
       "      <td>0.209613</td>\n",
       "      <td>9.062</td>\n",
       "      <td>MAC000246</td>\n",
       "      <td>2011-12-07T00:00:00Z</td>\n",
       "    </tr>\n",
       "  </tbody>\n",
       "</table>\n",
       "</div>"
      ],
      "text/plain": [
       "            energy_count  energy_max  energy_mean  energy_median  energy_min  \\\n",
       "2011-12-03            30       1.179     0.300233         0.1150       0.047   \n",
       "2011-12-04            48       1.914     0.432563         0.1750       0.026   \n",
       "2011-12-05            48       0.934     0.125417         0.0780       0.025   \n",
       "2011-12-06            48       1.216     0.277542         0.1140       0.027   \n",
       "2011-12-07            48       0.873     0.188792         0.1035       0.026   \n",
       "\n",
       "            energy_std  energy_sum     mac_id             timestamp  \n",
       "2011-12-03    0.361231       9.007  MAC000246  2011-12-03T00:00:00Z  \n",
       "2011-12-04    0.484152      20.763  MAC000246  2011-12-04T00:00:00Z  \n",
       "2011-12-05    0.153327       6.020  MAC000246  2011-12-05T00:00:00Z  \n",
       "2011-12-06    0.313399      13.322  MAC000246  2011-12-06T00:00:00Z  \n",
       "2011-12-07    0.209613       9.062  MAC000246  2011-12-07T00:00:00Z  "
      ]
     },
     "execution_count": 7,
     "metadata": {},
     "output_type": "execute_result"
    }
   ],
   "source": [
    "sample.head()"
   ]
  },
  {
   "cell_type": "code",
   "execution_count": 10,
   "metadata": {},
   "outputs": [
    {
     "name": "stdout",
     "output_type": "stream",
     "text": [
      "Stationality of energy_mean\n"
     ]
    },
    {
     "data": {
      "text/plain": [
       "{'adf': -1.7509470692868254,\n",
       " 'pvalue': 0.4050724062676825,\n",
       " 'usedlag': 13,\n",
       " 'nobs': 118,\n",
       " 'values': {'1%': -3.4870216863700767,\n",
       "  '5%': -2.8863625166643136,\n",
       "  '10%': -2.580009026141913},\n",
       " 'icbest': -244.8412703786973}"
      ]
     },
     "execution_count": 10,
     "metadata": {},
     "output_type": "execute_result"
    }
   ],
   "source": [
    "sample.tss.stationality('energy_mean')"
   ]
  },
  {
   "cell_type": "code",
   "execution_count": 11,
   "metadata": {
    "scrolled": true
   },
   "outputs": [
    {
     "data": {
      "text/plain": [
       "array([ 1.        ,  0.01988124, -0.07587133, -0.0857847 , -0.1294209 ,\n",
       "       -0.16521564,  0.042743  ,  0.17898557,  0.08994291, -0.12362803,\n",
       "       -0.14154587, -0.0384344 , -0.02130338,  0.03016252,  0.57049458,\n",
       "        0.07028073, -0.0676244 , -0.1082226 , -0.19143979, -0.15864797,\n",
       "        0.10618308,  0.19751814,  0.22004059, -0.12659641, -0.09526823,\n",
       "       -0.09804749, -0.03836123, -0.01841888,  0.51543392, -0.02513004,\n",
       "       -0.03867825, -0.1352832 , -0.18081904, -0.15329149,  0.00726753,\n",
       "        0.28549599,  0.10829312, -0.10260334, -0.17825569, -0.08851259,\n",
       "       -0.15899075, -0.0245425 ,  0.557379  ,  0.03499979, -0.04936955,\n",
       "       -0.14580598, -0.21307712, -0.10908383, -0.00558433,  0.19076638,\n",
       "        0.06413847, -0.11978583, -0.13446265, -0.02350572, -0.17832074,\n",
       "       -0.02620031,  0.5161205 , -0.01199376, -0.15238546, -0.10178701,\n",
       "       -0.17073283, -0.01778951, -0.02984613,  0.1285371 ,  0.05905938,\n",
       "       -0.10444507, -0.19666894, -0.01203473, -0.18859863,  0.00355229,\n",
       "        0.42806833,  0.0571459 , -0.12380186,  0.10095807, -0.29516196,\n",
       "       -0.07606964, -0.07584219,  0.17152009,  0.0096033 , -0.08740136,\n",
       "       -0.24214884, -0.0019024 , -0.05832272,  0.05910899,  0.57365543,\n",
       "        0.07121306, -0.12155303, -0.03873204, -0.26493339, -0.09836441,\n",
       "       -0.11663282,  0.00440084, -0.08681567, -0.01139732, -0.15918047,\n",
       "        0.15911292, -0.0614765 ,  0.2814347 ,  0.35898151,  0.19011217,\n",
       "       -0.11885716, -0.29299631, -0.38805793,  0.0956225 , -0.16651496,\n",
       "       -0.01192106,  0.08028413, -0.13040988, -0.03460647,  0.15300618,\n",
       "       -0.13296521,  0.14950001,  0.49778858, -0.04750404, -0.16301115,\n",
       "       -0.14581929, -0.38156252, -0.06215196, -0.26744083,  0.3672977 ,\n",
       "       -0.0727562 ,  0.07167665,  0.0499441 ,  0.05411974, -0.61281542,\n",
       "        0.26695921,  0.79363626, -0.09548503, -0.3077494 , -0.34540235,\n",
       "       -0.61663073, -0.24961426])"
      ]
     },
     "execution_count": 11,
     "metadata": {},
     "output_type": "execute_result"
    }
   ],
   "source": [
    "sample.tss.autocorrelation('energy_mean')"
   ]
  },
  {
   "cell_type": "code",
   "execution_count": null,
   "metadata": {},
   "outputs": [],
   "source": []
  },
  {
   "cell_type": "code",
   "execution_count": null,
   "metadata": {},
   "outputs": [],
   "source": []
  }
 ],
 "metadata": {
  "kernelspec": {
   "display_name": "series-model-service",
   "language": "python",
   "name": "series-model-service"
  },
  "language_info": {
   "codemirror_mode": {
    "name": "ipython",
    "version": 3
   },
   "file_extension": ".py",
   "mimetype": "text/x-python",
   "name": "python",
   "nbconvert_exporter": "python",
   "pygments_lexer": "ipython3",
   "version": "3.6.7"
  }
 },
 "nbformat": 4,
 "nbformat_minor": 2
}

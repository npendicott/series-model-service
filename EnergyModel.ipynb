{
 "cells": [
  {
   "cell_type": "code",
   "execution_count": 1,
   "metadata": {},
   "outputs": [],
   "source": [
    "from data.energy_service import EnergyService\n",
    "\n",
    "from pandas import DataFrame\n",
    "from model.series_sample import TimeSeriesSampleAccessor\n",
    "# Accessor does not work unless working with a specific kernal? TODO: Managing kernals\n",
    "# https://medium.com/@eleroy/jupyter-notebook-in-a-virtual-environment-virtualenv-8f3c3448247\n",
    "\n",
    "import json\n",
    "import os"
   ]
  },
  {
   "cell_type": "code",
   "execution_count": 2,
   "metadata": {},
   "outputs": [],
   "source": [
    "INFLUX_TS_FMT = \"%Y-%m-%dT%H:%M:%SZ\""
   ]
  },
  {
   "cell_type": "code",
   "execution_count": 3,
   "metadata": {},
   "outputs": [],
   "source": [
    "service = EnergyService()\n",
    "\n",
    "table, timestamps, lables, data = service.get_readings(\"daily\", \"MAC000246\", \"2011-04-12 10:30:00.0000000\", \"2012-04-12 10:30:00.0000000\")"
   ]
  },
  {
   "cell_type": "code",
   "execution_count": 4,
   "metadata": {},
   "outputs": [],
   "source": [
    "sample = DataFrame(data=data, columns=lables)\n",
    "sample['timestamp'] = timestamps\n",
    "\n",
    "sample.tss.format_index(timestamps, INFLUX_TS_FMT)"
   ]
  },
  {
   "cell_type": "code",
   "execution_count": 5,
   "metadata": {},
   "outputs": [
    {
     "data": {
      "text/html": [
       "<div>\n",
       "<style scoped>\n",
       "    .dataframe tbody tr th:only-of-type {\n",
       "        vertical-align: middle;\n",
       "    }\n",
       "\n",
       "    .dataframe tbody tr th {\n",
       "        vertical-align: top;\n",
       "    }\n",
       "\n",
       "    .dataframe thead th {\n",
       "        text-align: right;\n",
       "    }\n",
       "</style>\n",
       "<table border=\"1\" class=\"dataframe\">\n",
       "  <thead>\n",
       "    <tr style=\"text-align: right;\">\n",
       "      <th></th>\n",
       "      <th>energy_count</th>\n",
       "      <th>energy_max</th>\n",
       "      <th>energy_mean</th>\n",
       "      <th>energy_median</th>\n",
       "      <th>energy_min</th>\n",
       "      <th>energy_std</th>\n",
       "      <th>energy_sum</th>\n",
       "      <th>mac_id</th>\n",
       "      <th>timestamp</th>\n",
       "    </tr>\n",
       "  </thead>\n",
       "  <tbody>\n",
       "    <tr>\n",
       "      <th>count</th>\n",
       "      <td>132</td>\n",
       "      <td>132</td>\n",
       "      <td>132</td>\n",
       "      <td>132</td>\n",
       "      <td>132</td>\n",
       "      <td>132</td>\n",
       "      <td>132</td>\n",
       "      <td>132</td>\n",
       "      <td>132</td>\n",
       "    </tr>\n",
       "    <tr>\n",
       "      <th>unique</th>\n",
       "      <td>2</td>\n",
       "      <td>121</td>\n",
       "      <td>132</td>\n",
       "      <td>99</td>\n",
       "      <td>44</td>\n",
       "      <td>132</td>\n",
       "      <td>132</td>\n",
       "      <td>1</td>\n",
       "      <td>132</td>\n",
       "    </tr>\n",
       "    <tr>\n",
       "      <th>top</th>\n",
       "      <td>48</td>\n",
       "      <td>1.034</td>\n",
       "      <td>0.18704166666666674</td>\n",
       "      <td>0.083</td>\n",
       "      <td>0.025</td>\n",
       "      <td>0.2904250116868351</td>\n",
       "      <td>9.118</td>\n",
       "      <td>MAC000246</td>\n",
       "      <td>2011-12-17T00:00:00Z</td>\n",
       "    </tr>\n",
       "    <tr>\n",
       "      <th>freq</th>\n",
       "      <td>131</td>\n",
       "      <td>2</td>\n",
       "      <td>1</td>\n",
       "      <td>3</td>\n",
       "      <td>9</td>\n",
       "      <td>1</td>\n",
       "      <td>1</td>\n",
       "      <td>132</td>\n",
       "      <td>1</td>\n",
       "    </tr>\n",
       "  </tbody>\n",
       "</table>\n",
       "</div>"
      ],
      "text/plain": [
       "       energy_count energy_max          energy_mean energy_median energy_min  \\\n",
       "count           132        132                  132           132        132   \n",
       "unique            2        121                  132            99         44   \n",
       "top              48      1.034  0.18704166666666674         0.083      0.025   \n",
       "freq            131          2                    1             3          9   \n",
       "\n",
       "                energy_std energy_sum     mac_id             timestamp  \n",
       "count                  132        132        132                   132  \n",
       "unique                 132        132          1                   132  \n",
       "top     0.2904250116868351      9.118  MAC000246  2011-12-17T00:00:00Z  \n",
       "freq                     1          1        132                     1  "
      ]
     },
     "execution_count": 5,
     "metadata": {},
     "output_type": "execute_result"
    }
   ],
   "source": [
    "sample.describe()"
   ]
  },
  {
   "cell_type": "code",
   "execution_count": 6,
   "metadata": {},
   "outputs": [
    {
     "data": {
      "text/html": [
       "<div>\n",
       "<style scoped>\n",
       "    .dataframe tbody tr th:only-of-type {\n",
       "        vertical-align: middle;\n",
       "    }\n",
       "\n",
       "    .dataframe tbody tr th {\n",
       "        vertical-align: top;\n",
       "    }\n",
       "\n",
       "    .dataframe thead th {\n",
       "        text-align: right;\n",
       "    }\n",
       "</style>\n",
       "<table border=\"1\" class=\"dataframe\">\n",
       "  <thead>\n",
       "    <tr style=\"text-align: right;\">\n",
       "      <th></th>\n",
       "      <th>energy_count</th>\n",
       "      <th>energy_max</th>\n",
       "      <th>energy_mean</th>\n",
       "      <th>energy_median</th>\n",
       "      <th>energy_min</th>\n",
       "      <th>energy_std</th>\n",
       "      <th>energy_sum</th>\n",
       "      <th>mac_id</th>\n",
       "      <th>timestamp</th>\n",
       "    </tr>\n",
       "  </thead>\n",
       "  <tbody>\n",
       "    <tr>\n",
       "      <th>2011-12-03</th>\n",
       "      <td>30</td>\n",
       "      <td>1.179</td>\n",
       "      <td>0.30023333333333324</td>\n",
       "      <td>0.11499999999999999</td>\n",
       "      <td>0.047</td>\n",
       "      <td>0.361230911280261</td>\n",
       "      <td>9.006999999999998</td>\n",
       "      <td>MAC000246</td>\n",
       "      <td>2011-12-03T00:00:00Z</td>\n",
       "    </tr>\n",
       "    <tr>\n",
       "      <th>2011-12-04</th>\n",
       "      <td>48</td>\n",
       "      <td>1.9140000000000001</td>\n",
       "      <td>0.4325625041666667</td>\n",
       "      <td>0.175</td>\n",
       "      <td>0.026000000000000002</td>\n",
       "      <td>0.484151596297421</td>\n",
       "      <td>20.7630002</td>\n",
       "      <td>MAC000246</td>\n",
       "      <td>2011-12-04T00:00:00Z</td>\n",
       "    </tr>\n",
       "    <tr>\n",
       "      <th>2011-12-05</th>\n",
       "      <td>48</td>\n",
       "      <td>0.934</td>\n",
       "      <td>0.12541666666666665</td>\n",
       "      <td>0.078</td>\n",
       "      <td>0.025</td>\n",
       "      <td>0.15332677290930027</td>\n",
       "      <td>6.02</td>\n",
       "      <td>MAC000246</td>\n",
       "      <td>2011-12-05T00:00:00Z</td>\n",
       "    </tr>\n",
       "    <tr>\n",
       "      <th>2011-12-06</th>\n",
       "      <td>48</td>\n",
       "      <td>1.216</td>\n",
       "      <td>0.27754166875</td>\n",
       "      <td>0.114</td>\n",
       "      <td>0.027000000000000003</td>\n",
       "      <td>0.31339866764908253</td>\n",
       "      <td>13.3220001</td>\n",
       "      <td>MAC000246</td>\n",
       "      <td>2011-12-06T00:00:00Z</td>\n",
       "    </tr>\n",
       "    <tr>\n",
       "      <th>2011-12-07</th>\n",
       "      <td>48</td>\n",
       "      <td>0.873</td>\n",
       "      <td>0.1887916666666667</td>\n",
       "      <td>0.10350000000000001</td>\n",
       "      <td>0.026000000000000002</td>\n",
       "      <td>0.20961301306986393</td>\n",
       "      <td>9.062000000000001</td>\n",
       "      <td>MAC000246</td>\n",
       "      <td>2011-12-07T00:00:00Z</td>\n",
       "    </tr>\n",
       "  </tbody>\n",
       "</table>\n",
       "</div>"
      ],
      "text/plain": [
       "           energy_count          energy_max          energy_mean  \\\n",
       "2011-12-03           30               1.179  0.30023333333333324   \n",
       "2011-12-04           48  1.9140000000000001   0.4325625041666667   \n",
       "2011-12-05           48               0.934  0.12541666666666665   \n",
       "2011-12-06           48               1.216        0.27754166875   \n",
       "2011-12-07           48               0.873   0.1887916666666667   \n",
       "\n",
       "                  energy_median            energy_min           energy_std  \\\n",
       "2011-12-03  0.11499999999999999                 0.047    0.361230911280261   \n",
       "2011-12-04                0.175  0.026000000000000002    0.484151596297421   \n",
       "2011-12-05                0.078                 0.025  0.15332677290930027   \n",
       "2011-12-06                0.114  0.027000000000000003  0.31339866764908253   \n",
       "2011-12-07  0.10350000000000001  0.026000000000000002  0.20961301306986393   \n",
       "\n",
       "                   energy_sum     mac_id             timestamp  \n",
       "2011-12-03  9.006999999999998  MAC000246  2011-12-03T00:00:00Z  \n",
       "2011-12-04         20.7630002  MAC000246  2011-12-04T00:00:00Z  \n",
       "2011-12-05               6.02  MAC000246  2011-12-05T00:00:00Z  \n",
       "2011-12-06         13.3220001  MAC000246  2011-12-06T00:00:00Z  \n",
       "2011-12-07  9.062000000000001  MAC000246  2011-12-07T00:00:00Z  "
      ]
     },
     "execution_count": 6,
     "metadata": {},
     "output_type": "execute_result"
    }
   ],
   "source": [
    "sample.head()"
   ]
  },
  {
   "cell_type": "code",
   "execution_count": 7,
   "metadata": {},
   "outputs": [
    {
     "name": "stdout",
     "output_type": "stream",
     "text": [
      "Stationality of energy_mean\n"
     ]
    }
   ],
   "source": [
    "stationality = sample.tss.stationality('energy_mean')"
   ]
  },
  {
   "cell_type": "code",
   "execution_count": 8,
   "metadata": {
    "scrolled": true
   },
   "outputs": [],
   "source": [
    "auto_corr = sample.tss.autocorrelation('energy_mean')"
   ]
  },
  {
   "cell_type": "code",
   "execution_count": null,
   "metadata": {},
   "outputs": [],
   "source": []
  }
 ],
 "metadata": {
  "kernelspec": {
   "display_name": "series-model-service",
   "language": "python",
   "name": "series-model-service"
  },
  "language_info": {
   "codemirror_mode": {
    "name": "ipython",
    "version": 3
   },
   "file_extension": ".py",
   "mimetype": "text/x-python",
   "name": "python",
   "nbconvert_exporter": "python",
   "pygments_lexer": "ipython3",
   "version": "3.6.7"
  }
 },
 "nbformat": 4,
 "nbformat_minor": 2
}

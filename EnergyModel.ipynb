{
 "cells": [
  {
   "cell_type": "markdown",
   "metadata": {},
   "source": [
    "# EnergyModel"
   ]
  },
  {
   "cell_type": "code",
   "execution_count": null,
   "metadata": {},
   "outputs": [],
   "source": [
    "from data.energy_service import EnergyService\n",
    "\n",
    "from pandas import DataFrame\n",
    "from model.series_sample import TimeSeriesSampleAccessor\n",
    "\n",
    "import json\n",
    "import os"
   ]
  },
  {
   "cell_type": "markdown",
   "metadata": {},
   "source": [
    "### Get Data"
   ]
  },
  {
   "cell_type": "code",
   "execution_count": null,
   "metadata": {},
   "outputs": [],
   "source": [
    "# PROD\n",
    "service = EnergyService()\n",
    "\n",
    "\n",
    "mac_id = \"MAC000246\"\n",
    "start_date = \"2011-04-12 10:30:00.0000000\"\n",
    "end_date = \"2012-04-12 10:30:00.0000000\"\n",
    "\n",
    "# Daily\n",
    "# table, timestamps, lables, data = service.daily_reading(mac_id, start_date, end_date)\n",
    "# HHour\n",
    "table, timestamps, lables, data = service.hhourly_reading(mac_id, start_date, end_date)\n",
    "\n",
    "# table, timestamps, lables, data = service.daily_reading(\"MAC000246\", \"2011-04-12 10:30:00.0000000\", \"2012-04-12 10:30:00.0000000\")\n",
    "# table, timestamps, columns, data = service.sample_data('MAC000246', '2012-04-12 10:30:00.0000000', '2012-05-12 10:30:00.0000000')\n",
    "# table, timestamps, lables, data = service.hhourly_reading(\"MAC000246\", \"2011-04-12 10:30:00.0000000\", \"2012-04-12 10:30:00.0000000\")\n",
    "\n"
   ]
  },
  {
   "cell_type": "code",
   "execution_count": null,
   "metadata": {
    "scrolled": false
   },
   "outputs": [],
   "source": [
    "sample = DataFrame(data=data, columns=lables)\n",
    "sample['timestamp'] = timestamps\n",
    "\n",
    "sample.describe()\n"
   ]
  },
  {
   "cell_type": "markdown",
   "metadata": {},
   "source": [
    "### Format"
   ]
  },
  {
   "cell_type": "code",
   "execution_count": null,
   "metadata": {},
   "outputs": [],
   "source": [
    "sample.tss.format_index()\n",
    "\n",
    "# Attribute?\n",
    "dowc = sample.tss.day_of_week_class()\n",
    "\n",
    "#key = 'energy_mean'\n",
    "key = 'energy_kwh'"
   ]
  },
  {
   "cell_type": "code",
   "execution_count": null,
   "metadata": {},
   "outputs": [],
   "source": [
    "sample.tss.stationality(key)"
   ]
  },
  {
   "cell_type": "code",
   "execution_count": null,
   "metadata": {
    "scrolled": false
   },
   "outputs": [],
   "source": [
    "sample.tss.autocorrelation(key)"
   ]
  },
  {
   "cell_type": "code",
   "execution_count": null,
   "metadata": {},
   "outputs": [],
   "source": []
  }
 ],
 "metadata": {
  "kernelspec": {
   "display_name": "Python 3",
   "language": "python",
   "name": "python3"
  },
  "language_info": {
   "codemirror_mode": {
    "name": "ipython",
    "version": 3
   },
   "file_extension": ".py",
   "mimetype": "text/x-python",
   "name": "python",
   "nbconvert_exporter": "python",
   "pygments_lexer": "ipython3",
   "version": "3.6.4"
  }
 },
 "nbformat": 4,
 "nbformat_minor": 2
}
